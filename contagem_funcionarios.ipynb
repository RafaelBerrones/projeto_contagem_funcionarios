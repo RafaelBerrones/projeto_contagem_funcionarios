{
  "nbformat": 4,
  "nbformat_minor": 0,
  "metadata": {
    "colab": {
      "provenance": []
    },
    "kernelspec": {
      "name": "python3",
      "display_name": "Python 3"
    },
    "language_info": {
      "name": "python"
    }
  },
  "cells": [
    {
      "cell_type": "code",
      "execution_count": 1,
      "metadata": {
        "id": "wJbZAjBHbsh3",
        "outputId": "78599bfe-5a05-4afc-caea-191c103041f3",
        "colab": {
          "base_uri": "https://localhost:8080/"
        }
      },
      "outputs": [
        {
          "output_type": "stream",
          "name": "stdout",
          "text": [
            "[[8, 9, 7, 12, 8, 14], [13, 9], [9, 6, 4, 8, 5, 10, 12], [16, 10, 7, 11, 9, 12, 7, 10]]\n",
            "{'ES': 58, 'RJ': 22, 'MG': 54, 'SP': 82}\n"
          ]
        }
      ],
      "source": [
        "funcionarios = [('SP', 16), ('ES', 8), ('MG', 9), ('MG', 6), ('SP', 10), ('MG', 4), ('ES',9), ('ES', 7), ('ES', 12), ('SP', 7), ('SP', 11), ('MG',8), ('ES',8), ('SP',9), ('RJ', 13), ('MG', 5), ('RJ', 9), ('SP', 12), ('MG', 10), ('SP', 7), ('ES', 14), ('SP', 10), ('MG', 12)]\n",
        "\n",
        "estados_unicos = list(set([tupla[0] for tupla in funcionarios]))\n",
        "\n",
        "lista_tuplas = []\n",
        "\n",
        "for estado in estados_unicos:\n",
        "  lista = [tupla[1] for tupla in funcionarios if tupla[0] == estado]\n",
        "  lista_tuplas.append(lista)\n",
        "print(lista_tuplas)\n",
        "\n",
        "agrupamento_por_estado = {estados_unicos[i]: lista_tuplas[i] for i in range(len(estados_unicos))}\n",
        "\n",
        "agrupamento_por_estado\n",
        "\n",
        "\n",
        "soma_por_estado = {estados_unicos[i]: sum(lista_tuplas[i]) for i in range(len(estados_unicos))}\n",
        "print(soma_por_estado)\n"
      ]
    }
  ]
}